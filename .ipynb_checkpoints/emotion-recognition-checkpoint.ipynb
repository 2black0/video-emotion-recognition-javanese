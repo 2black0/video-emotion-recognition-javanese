{
 "cells": [
  {
   "cell_type": "markdown",
   "id": "eff14578-e67a-4121-b63f-bdde3bb746fe",
   "metadata": {},
   "source": [
    "# Resize the video"
   ]
  },
  {
   "cell_type": "code",
   "execution_count": 33,
   "id": "0dd06f80-e419-40ce-88fc-a8c639991e96",
   "metadata": {},
   "outputs": [],
   "source": [
    "#from moviepy.editor import *"
   ]
  },
  {
   "cell_type": "code",
   "execution_count": 34,
   "id": "8d563f08-4beb-4184-931a-fad44359b4c7",
   "metadata": {
    "scrolled": true,
    "tags": []
   },
   "outputs": [],
   "source": [
    "#import os\n",
    "\n",
    "#files = os.listdir(dirdataset)\n",
    "#print(files)\n",
    "#for file in files:\n",
    "#    print(file)"
   ]
  },
  {
   "cell_type": "code",
   "execution_count": 35,
   "id": "818e2e54-c7dd-4059-ad00-ca12bead00e8",
   "metadata": {
    "scrolled": true,
    "tags": []
   },
   "outputs": [],
   "source": [
    "#for i in range(len(files)):\n",
    "#    clip1 = VideoFileClip('dataset/'+files[i])\n",
    "#    clip1.resize(width=360).write_videofile('dataset-resize/'+files[i])"
   ]
  },
  {
   "cell_type": "code",
   "execution_count": null,
   "id": "adf74423-4ee7-4db5-8ef7-b7b0c529341e",
   "metadata": {},
   "outputs": [],
   "source": []
  }
 ],
 "metadata": {
  "kernelspec": {
   "display_name": "Python 3 (ipykernel)",
   "language": "python",
   "name": "python3"
  },
  "language_info": {
   "codemirror_mode": {
    "name": "ipython",
    "version": 3
   },
   "file_extension": ".py",
   "mimetype": "text/x-python",
   "name": "python",
   "nbconvert_exporter": "python",
   "pygments_lexer": "ipython3",
   "version": "3.9.0"
  }
 },
 "nbformat": 4,
 "nbformat_minor": 5
}
